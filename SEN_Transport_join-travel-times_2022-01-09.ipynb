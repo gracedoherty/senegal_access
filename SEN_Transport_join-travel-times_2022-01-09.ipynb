{
 "cells": [
  {
   "cell_type": "markdown",
   "metadata": {},
   "source": [
    "# Network analysis in Senegal\n",
    "\n",
    "### Objectives\n",
    "    1)\tUse measures of road-based accessibility to identify road segments that, if rehabilitated, would improve agricultural market activities in Senegal, including during flood conditions.\n",
    "    2)\tGain a better understanding of the accessibility, connectivity, and criticality of roads in Senegal in relationship to agricultural origins, processing & transfer sites, and markets.\n",
    "\n",
    "To this end, the team will develop an accessibility model which measures the travel time from sites of agricultural production to their nearest populated areas, processing centers, and markets. \n",
    "\n",
    "### Datasets for analysis\n",
    "#### ORIGIN\n",
    "    1) agriculture: MapSPAM 2017. Measuring value in international dollars.\n",
    "    2) agriculture: UMD Land Cover 2019 30m. Assign MapSPAM value onto land cover cropland class for more precise origin information.\n",
    "    3) population: WorldPop 2020, UN-adjusted.\n",
    "    4) settlement extent: GRID3 2020.\n",
    "#### DESTINATION\n",
    "    4) markets: derived from WorldPop 2020 and GRID3 2020 urban clusters.\n",
    "    5) agricultural processing hubs: to be acquired.\n",
    "#### TRAVEL ROUTE\n",
    "    6) roads: OpenStreetMap, July 2021.\n",
    "    7) elevation: \n",
    "#### OBSTACLE\n",
    "    8) flood: FATHOM. 1-in-10, 20, and 50 year flood return periods. \n",
    "#### INTERVENTION\n",
    "    9) upcoming road projects: AGEROUTE interventions separate from the World Bank-financed project\n",
    "    10) targeted road projects: critical road segments identified by this accessibility model's baseline outputs\n",
    "\n",
    "\n",
    "### Model design\n",
    "#### Basic formula: \n",
    "    (a) Off-road driving time from origin to closest road node\n",
    "    +\n",
    "    (b) Driving time from road node in (a) to a destination (closeness measured by road segments speeds)\n",
    "\n",
    "#### Model origin & destination (OD) sets:\n",
    "    A)\tTravel time from an area that has agricultural value/potential to the nearest processing hub (if provided).\n",
    "    B)\tTravel time from an area that has agricultural value/potential to the nearest larger settlement, (“larger” settlement identified using a case-appropriate population metric to be determined).\n",
    "    C)\tTravel time from an area that has agricultural value/potential to the nearest market.\n",
    "    D)\tTravel time from all settlements to the nearest market.\n",
    "    E)\tTravel time from larger settlements to the nearest market.\n",
    "\n",
    "#### Before/after scenarios for each OD set:\n",
    "    1)\tPre-project, baseline weather: No inclement weather. Road network status as of November 2021.\n",
    "    2)\tPre-project, flood: 1-in-10, 1-in-20 and 1-in-50 year flood return period. Road network status as of November 2021.\n",
    "    3)\tPost-project, baseline weather: No inclement weather. Road network status if X number of critical road segments to high-value areas are protected (i.e., their travel times reduced).\n",
    "    4)\tPost-project, flood: 1-in-10 year flood return period. Road network status if X number of critical road segments to high-value areas are protected (i.e., their travel times reduced).\n",
    "\n",
    "#### Notes:\n",
    "    --Destinations are expected to be proximal to the road network, so no measure is taken between road and destination.\n",
    "    --All travel times will be assigned to each model variation’s point of origin; the aggregation up to admin areas is possible if desired.\n",
    "    --Obstacles & interventions modify the road segment speeds. Basic formula is then applied to the modified road network.\n"
   ]
  },
  {
   "cell_type": "markdown",
   "metadata": {},
   "source": [
    "### Prep workspace"
   ]
  },
  {
   "cell_type": "code",
   "execution_count": 1,
   "metadata": {},
   "outputs": [
    {
     "data": {
      "text/plain": [
       "'C:\\\\Users\\\\wb527163\\\\GEO-Cdrive-Grace'"
      ]
     },
     "execution_count": 1,
     "metadata": {},
     "output_type": "execute_result"
    }
   ],
   "source": [
    "import os, sys\n",
    "GISFolder = os.getcwd()\n",
    "GISFolder"
   ]
  },
  {
   "cell_type": "code",
   "execution_count": 2,
   "metadata": {},
   "outputs": [],
   "source": [
    "# Note: needed to reinstall rtree due to geopandas import error. Did so in the console. \n",
    "# conda install -c conda-forge rtree=0.9.3"
   ]
  },
  {
   "cell_type": "code",
   "execution_count": 3,
   "metadata": {},
   "outputs": [],
   "source": [
    "# load and filter osm network (step 1)\n",
    "import geopandas as gpd\n",
    "from geopandas import GeoDataFrame\n",
    "import pandas as pd\n",
    "import time\n",
    "sys.path.append(r\"C:\\Users\\wb527163\\.conda\\envs\\geo\\GOSTnets-master\")\n",
    "import GOSTnets as gn"
   ]
  },
  {
   "cell_type": "code",
   "execution_count": 4,
   "metadata": {},
   "outputs": [],
   "source": [
    "import networkx as nx\n",
    "import osmnx as ox\n",
    "import numpy as np\n",
    "import rasterio as rt\n",
    "import shapely\n",
    "from shapely.geometry import Point, box\n",
    "from shapely.ops import unary_union\n",
    "from shapely.wkt import loads\n",
    "from shapely import wkt\n",
    "from shapely.geometry import LineString, MultiLineString, Point\n",
    "import peartree"
   ]
  },
  {
   "cell_type": "code",
   "execution_count": 5,
   "metadata": {},
   "outputs": [],
   "source": [
    "#### Might not use these\n",
    "import fiona\n",
    "from osgeo import gdal\n",
    "import importlib\n",
    "import matplotlib.pyplot as plt\n",
    "import subprocess, glob"
   ]
  },
  {
   "cell_type": "code",
   "execution_count": 6,
   "metadata": {},
   "outputs": [
    {
     "data": {
      "text/plain": [
       "'C:\\\\Users\\\\wb527163\\\\GEO-Cdrive-Grace\\\\SEN-Cdrive'"
      ]
     },
     "execution_count": 6,
     "metadata": {},
     "output_type": "execute_result"
    }
   ],
   "source": [
    "pth = os.path.join(GISFolder, \"SEN-Cdrive\") # Personal folder system for running model.\n",
    "pth"
   ]
  },
  {
   "cell_type": "code",
   "execution_count": 7,
   "metadata": {},
   "outputs": [
    {
     "data": {
      "text/plain": [
       "'C:\\\\Users\\\\wb527163\\\\GEO-Cdrive-Grace\\\\SEN-Cdrive\\\\outputs'"
      ]
     },
     "execution_count": 7,
     "metadata": {},
     "output_type": "execute_result"
    }
   ],
   "source": [
    "out_pth = os.path.join(GISFolder, \"SEN-Cdrive\\outputs\") # For storing intermediate outputs from the model.\n",
    "out_pth"
   ]
  },
  {
   "cell_type": "code",
   "execution_count": 8,
   "metadata": {},
   "outputs": [
    {
     "data": {
      "text/plain": [
       "'R:\\\\SEN\\\\GEO'"
      ]
     },
     "execution_count": 8,
     "metadata": {},
     "output_type": "execute_result"
    }
   ],
   "source": [
    "team_pth = 'R:\\\\SEN\\\\GEO' # This is where the unmodified input data is stored. Finalized outputs also housed here.\n",
    "team_pth"
   ]
  },
  {
   "cell_type": "markdown",
   "metadata": {},
   "source": [
    "### Join back with full georeferenced origins and combine with cost-distance raster travel times from origins to road node."
   ]
  },
  {
   "cell_type": "markdown",
   "metadata": {},
   "source": [
    "#### Hamlets"
   ]
  },
  {
   "cell_type": "code",
   "execution_count": 24,
   "metadata": {},
   "outputs": [
    {
     "name": "stdout",
     "output_type": "stream",
     "text": [
      "<class 'pandas.core.frame.DataFrame'>\n",
      "RangeIndex: 125886 entries, 0 to 125885\n",
      "Data columns (total 7 columns):\n",
      " #   Column      Non-Null Count   Dtype   \n",
      "---  ------      --------------   -----   \n",
      " 0   Unnamed__0  125886 non-null  float64 \n",
      " 1   mgrs_code   125886 non-null  object  \n",
      " 2   type        125886 non-null  object  \n",
      " 3   GlobalID    125886 non-null  object  \n",
      " 4   Shape_Leng  125886 non-null  float64 \n",
      " 5   CD_gNodesP  125402 non-null  float64 \n",
      " 6   geometry    125886 non-null  geometry\n",
      "dtypes: float64(3), geometry(1), object(3)\n",
      "memory usage: 6.7+ MB\n",
      "None\n",
      "<class 'pandas.core.frame.DataFrame'>\n",
      "RangeIndex: 125886 entries, 0 to 125885\n",
      "Data columns (total 10 columns):\n",
      " #   Column      Non-Null Count   Dtype  \n",
      "---  ------      --------------   -----  \n",
      " 0   Unnamed: 0  125886 non-null  int64  \n",
      " 1   Unnamed_ 0  125886 non-null  int64  \n",
      " 2   mgrs_code   125886 non-null  object \n",
      " 3   type        125886 non-null  object \n",
      " 4   GlobalID    125886 non-null  object \n",
      " 5   Shape_Leng  125886 non-null  float64\n",
      " 6   Shape_Area  125886 non-null  float64\n",
      " 7   geometry    125886 non-null  object \n",
      " 8   NN          125886 non-null  int64  \n",
      " 9   NN_dist     125886 non-null  float64\n",
      "dtypes: float64(3), int64(3), object(4)\n",
      "memory usage: 9.6+ MB\n",
      "None\n"
     ]
    }
   ],
   "source": [
    "hamlet_CD = gpd.read_file(\"R:\\SEN\\GEO\\Team\\Projects\\Sen_TransportOV\\SEN_TransportOV.gdb\", layer=\"hamlet_pt\") # Contains cost-distance travel from origin to road node.\n",
    "hamlet_CD = pd.DataFrame(hamlet_CD)\n",
    "hamlet_snap = os.path.join(out_pth, \"hamlet_snap.csv\") # Georeferenced to origin. Contains hamlet ID and road node ID.\n",
    "hamlet_snap = pd.read_csv(hamlet_snap)\n",
    "\n",
    "print(hamlet_CD.info(), end=\"\\n\")\n",
    "print(hamlet_snap.info())"
   ]
  },
  {
   "cell_type": "code",
   "execution_count": 25,
   "metadata": {},
   "outputs": [
    {
     "name": "stdout",
     "output_type": "stream",
     "text": [
      "<class 'pandas.core.frame.DataFrame'>\n",
      "RangeIndex: 74662 entries, 0 to 74661\n",
      "Data columns (total 5 columns):\n",
      " #   Column      Non-Null Count  Dtype  \n",
      "---  ------      --------------  -----  \n",
      " 0   Unnamed: 0  74662 non-null  int64  \n",
      " 1   NN          74662 non-null  int64  \n",
      " 2   ha_HD1      74661 non-null  float64\n",
      " 3   ha_HD2      74662 non-null  float64\n",
      " 4   ha_HD3      74662 non-null  float64\n",
      "dtypes: float64(3), int64(2)\n",
      "memory usage: 2.8 MB\n",
      "None\n",
      "<class 'pandas.core.frame.DataFrame'>\n",
      "RangeIndex: 74662 entries, 0 to 74661\n",
      "Data columns (total 5 columns):\n",
      " #   Column      Non-Null Count  Dtype  \n",
      "---  ------      --------------  -----  \n",
      " 0   Unnamed: 0  74662 non-null  int64  \n",
      " 1   NN          74662 non-null  int64  \n",
      " 2   ha_HD1      74661 non-null  float64\n",
      " 3   ha_HD2      74662 non-null  float64\n",
      " 4   ha_HD3      74662 non-null  float64\n",
      "dtypes: float64(3), int64(2)\n",
      "memory usage: 2.8 MB\n",
      "None\n",
      "<class 'pandas.core.frame.DataFrame'>\n",
      "RangeIndex: 74662 entries, 0 to 74661\n",
      "Data columns (total 5 columns):\n",
      " #   Column      Non-Null Count  Dtype  \n",
      "---  ------      --------------  -----  \n",
      " 0   Unnamed: 0  74662 non-null  int64  \n",
      " 1   NN          74662 non-null  int64  \n",
      " 2   ha_HD1      74661 non-null  float64\n",
      " 3   ha_HD2      74662 non-null  float64\n",
      " 4   ha_HD3      74662 non-null  float64\n",
      "dtypes: float64(3), int64(2)\n",
      "memory usage: 2.8 MB\n",
      "None\n",
      "<class 'pandas.core.frame.DataFrame'>\n",
      "RangeIndex: 74662 entries, 0 to 74661\n",
      "Data columns (total 5 columns):\n",
      " #   Column      Non-Null Count  Dtype  \n",
      "---  ------      --------------  -----  \n",
      " 0   Unnamed: 0  74662 non-null  int64  \n",
      " 1   NN          74662 non-null  int64  \n",
      " 2   ha_HD1      74661 non-null  float64\n",
      " 3   ha_HD2      74662 non-null  float64\n",
      " 4   ha_HD3      74662 non-null  float64\n",
      "dtypes: float64(3), int64(2)\n",
      "memory usage: 2.8 MB\n",
      "None\n"
     ]
    }
   ],
   "source": [
    "hamletbase = os.path.join(out_pth, \"hamlet_to_HDurban_drive_pre-project.csv\")\n",
    "hamletbase = pd.read_csv(hamletbase)\n",
    "hamletF10 = os.path.join(out_pth, \"hamlet_to_HDurban_drive_pre-project_flood10.csv\")\n",
    "hamletF10 = pd.read_csv(hamletF10)\n",
    "hamletF20 = os.path.join(out_pth, \"hamlet_to_HDurban_drive_pre-project_flood20.csv\")\n",
    "hamletF20 = pd.read_csv(hamletF20)\n",
    "hamletF50 = os.path.join(out_pth, \"hamlet_to_HDurban_drive_pre-project_flood50.csv\")\n",
    "hamletF50 = pd.read_csv(hamletF50)\n",
    "\n",
    "print(hamletbase.info(), end=\"\\n\")\n",
    "print(hamletF10.info(), end=\"\\n\")\n",
    "print(hamletF20.info(), end=\"\\n\")\n",
    "print(hamletF50.info())"
   ]
  },
  {
   "cell_type": "code",
   "execution_count": 26,
   "metadata": {},
   "outputs": [
    {
     "name": "stdout",
     "output_type": "stream",
     "text": [
      "74662\n",
      "74662\n",
      "74662\n",
      "74662\n",
      "74662\n",
      "125886\n",
      "125886\n"
     ]
    }
   ],
   "source": [
    "# Make sure the ID is unique and fully matched\n",
    "list1 = list(hamletbase['NN'].unique())\n",
    "list2 = list(hamletF10['NN'].unique())\n",
    "list3 = list(hamletF20['NN'].unique())\n",
    "list4 = list(hamletF50['NN'].unique())\n",
    "list5 = list(hamlet_snap['NN'].unique())\n",
    "print(len(list1))\n",
    "print(len(list2))\n",
    "print(len(list3))\n",
    "print(len(list4))\n",
    "print(len(list5))\n",
    "\n",
    "list6 = list(hamlet_snap['mgrs_code'].unique())\n",
    "list7 = list(hamlet_CD['mgrs_code'].unique())\n",
    "print(len(list6))\n",
    "print(len(list7))"
   ]
  },
  {
   "cell_type": "code",
   "execution_count": 27,
   "metadata": {},
   "outputs": [],
   "source": [
    "hamletF10.rename(columns={'ha_HD1': 'HD1F10'}, inplace=True)\n",
    "hamletF20.rename(columns={'ha_HD1': 'HD1F20'}, inplace=True)\n",
    "hamletF50.rename(columns={'ha_HD1': 'HD1F50'}, inplace=True)\n",
    "hamletbase = hamletbase[['NN', 'ha_HD1']]\n",
    "hamletF10 = hamletF10[['NN', 'HD1F10']]\n",
    "hamletF20 = hamletF20[['NN', 'HD1F20']]\n",
    "hamletF50 = hamletF50[['NN', 'HD1F50']]\n",
    "hamlet_snap = hamlet_snap[['mgrs_code', 'geometry', 'NN']]\n",
    "hamlet_CD = hamlet_CD[['mgrs_code', 'CD_gNodesP']]"
   ]
  },
  {
   "cell_type": "code",
   "execution_count": 28,
   "metadata": {},
   "outputs": [],
   "source": [
    "hamlet_all = pd.merge(hamlet_snap, hamlet_CD, on='mgrs_code',how='left')\n",
    "del hamlet_snap, hamlet_CD # Avoiding memory issues."
   ]
  },
  {
   "cell_type": "code",
   "execution_count": 29,
   "metadata": {},
   "outputs": [],
   "source": [
    "hamlet_all = pd.merge(hamlet_all, hamletbase, on='NN',how='left')\n",
    "del hamletbase"
   ]
  },
  {
   "cell_type": "code",
   "execution_count": 30,
   "metadata": {},
   "outputs": [],
   "source": [
    "hamlet_all = pd.merge(hamlet_all, hamletF10, on='NN',how='left')\n",
    "del hamletF10"
   ]
  },
  {
   "cell_type": "code",
   "execution_count": 31,
   "metadata": {},
   "outputs": [],
   "source": [
    "hamlet_all = pd.merge(hamlet_all, hamletF20, on='NN',how='left')\n",
    "del hamletF20"
   ]
  },
  {
   "cell_type": "code",
   "execution_count": 32,
   "metadata": {
    "scrolled": true
   },
   "outputs": [
    {
     "name": "stdout",
     "output_type": "stream",
     "text": [
      "<class 'pandas.core.frame.DataFrame'>\n",
      "Int64Index: 125886 entries, 0 to 125885\n",
      "Data columns (total 8 columns):\n",
      " #   Column      Non-Null Count   Dtype  \n",
      "---  ------      --------------   -----  \n",
      " 0   mgrs_code   125886 non-null  object \n",
      " 1   geometry    125886 non-null  object \n",
      " 2   NN          125886 non-null  int64  \n",
      " 3   CD_gNodesP  125402 non-null  float64\n",
      " 4   ha_HD1      125885 non-null  float64\n",
      " 5   HD1F10      125885 non-null  float64\n",
      " 6   HD1F20      125885 non-null  float64\n",
      " 7   HD1F50      125885 non-null  float64\n",
      "dtypes: float64(5), int64(1), object(2)\n",
      "memory usage: 8.6+ MB\n",
      "None\n",
      "\n",
      "      mgrs_code                                        geometry          NN  \\\n",
      "0  28PCU1265_01  POINT (-16.721473282454415 12.348636090165247)  7761872870   \n",
      "1  28PCU1365_01   POINT (-16.716456507935607 12.34788723564788)  7761872869   \n",
      "2  28PCU1365_02  POINT (-16.713855008830738 12.350880992129111)  6442044321   \n",
      "3  28PCU1566_01  POINT (-16.701275174874546 12.355585269999269)  2142496418   \n",
      "4  28PCU1566_02  POINT (-16.698773736706396 12.356804484409668)  2142496429   \n",
      "\n",
      "   CD_gNodesP     ha_HD1     HD1F10       HD1F20       HD1F50  \n",
      "0         NaN  62.540071  63.944594  3086.602119  7555.041976  \n",
      "1         NaN  62.521511  63.926035  3086.583559  7555.023417  \n",
      "2         NaN  61.511679  62.916203  3085.573727  7554.013585  \n",
      "3         NaN  62.965201  64.369725  3087.027249  7555.467107  \n",
      "4         NaN  63.347575  64.752099  3087.409623  7555.849481  \n"
     ]
    }
   ],
   "source": [
    "hamlet_all = pd.merge(hamlet_all, hamletF50, on='NN',how='left')\n",
    "del hamletF50\n",
    "print(hamlet_all.info(), end='\\n\\n')\n",
    "print(hamlet_all.head())"
   ]
  },
  {
   "cell_type": "code",
   "execution_count": 33,
   "metadata": {},
   "outputs": [],
   "source": [
    "hamlet_all['pre'] = 0\n",
    "hamlet_all['pre'] = hamlet_all['ha_HD1'] + hamlet_all['CD_gNodesP']\n",
    "hamlet_all['F10'] = 0\n",
    "hamlet_all['F10'] = hamlet_all['HD1F10'] + hamlet_all['CD_gNodesP']\n",
    "hamlet_all['F20'] = 0\n",
    "hamlet_all['F20'] = hamlet_all['HD1F20'] + hamlet_all['CD_gNodesP']\n",
    "hamlet_all['F50'] = 0\n",
    "hamlet_all['F50'] = hamlet_all['HD1F50'] + hamlet_all['CD_gNodesP']"
   ]
  },
  {
   "cell_type": "code",
   "execution_count": 34,
   "metadata": {},
   "outputs": [
    {
     "name": "stdout",
     "output_type": "stream",
     "text": [
      "<class 'pandas.core.frame.DataFrame'>\n",
      "Int64Index: 125886 entries, 0 to 125885\n",
      "Data columns (total 8 columns):\n",
      " #   Column     Non-Null Count   Dtype  \n",
      "---  ------     --------------   -----  \n",
      " 0   mgrs_code  125886 non-null  object \n",
      " 1   geometry   125886 non-null  object \n",
      " 2   NN         125886 non-null  int64  \n",
      " 3   offroad    125402 non-null  float64\n",
      " 4   pre        125401 non-null  float64\n",
      " 5   F10        125401 non-null  float64\n",
      " 6   F20        125401 non-null  float64\n",
      " 7   F50        125401 non-null  float64\n",
      "dtypes: float64(5), int64(1), object(2)\n",
      "memory usage: 8.6+ MB\n"
     ]
    }
   ],
   "source": [
    "# Remove legacy variables.\n",
    "hamlet_all = hamlet_all.drop(columns=['ha_HD1', 'HD1F10', 'HD1F20', 'HD1F50'])\n",
    "hamlet_all.rename(columns={'CD_gNodesP': 'offroad'}, inplace=True)\n",
    "hamlet_all.info()"
   ]
  },
  {
   "cell_type": "code",
   "execution_count": 35,
   "metadata": {},
   "outputs": [
    {
     "data": {
      "text/html": [
       "<div>\n",
       "<style scoped>\n",
       "    .dataframe tbody tr th:only-of-type {\n",
       "        vertical-align: middle;\n",
       "    }\n",
       "\n",
       "    .dataframe tbody tr th {\n",
       "        vertical-align: top;\n",
       "    }\n",
       "\n",
       "    .dataframe thead th {\n",
       "        text-align: right;\n",
       "    }\n",
       "</style>\n",
       "<table border=\"1\" class=\"dataframe\">\n",
       "  <thead>\n",
       "    <tr style=\"text-align: right;\">\n",
       "      <th></th>\n",
       "      <th>NN</th>\n",
       "      <th>offroad</th>\n",
       "      <th>pre</th>\n",
       "      <th>F10</th>\n",
       "      <th>F20</th>\n",
       "      <th>F50</th>\n",
       "    </tr>\n",
       "  </thead>\n",
       "  <tbody>\n",
       "    <tr>\n",
       "      <th>count</th>\n",
       "      <td>1.258860e+05</td>\n",
       "      <td>125402.000000</td>\n",
       "      <td>125401.000000</td>\n",
       "      <td>125401.000000</td>\n",
       "      <td>125401.000000</td>\n",
       "      <td>125401.000000</td>\n",
       "    </tr>\n",
       "    <tr>\n",
       "      <th>mean</th>\n",
       "      <td>5.726621e+09</td>\n",
       "      <td>30.850911</td>\n",
       "      <td>108.466988</td>\n",
       "      <td>1302.139275</td>\n",
       "      <td>2491.133466</td>\n",
       "      <td>4756.493252</td>\n",
       "    </tr>\n",
       "    <tr>\n",
       "      <th>std</th>\n",
       "      <td>2.427068e+09</td>\n",
       "      <td>52.353222</td>\n",
       "      <td>91.342579</td>\n",
       "      <td>8607.901375</td>\n",
       "      <td>12680.066151</td>\n",
       "      <td>19174.814081</td>\n",
       "    </tr>\n",
       "    <tr>\n",
       "      <th>min</th>\n",
       "      <td>6.088434e+07</td>\n",
       "      <td>0.000000</td>\n",
       "      <td>0.000000</td>\n",
       "      <td>0.000000</td>\n",
       "      <td>0.000000</td>\n",
       "      <td>0.000000</td>\n",
       "    </tr>\n",
       "    <tr>\n",
       "      <th>25%</th>\n",
       "      <td>3.774781e+09</td>\n",
       "      <td>4.030059</td>\n",
       "      <td>45.322884</td>\n",
       "      <td>53.724500</td>\n",
       "      <td>60.838078</td>\n",
       "      <td>64.444047</td>\n",
       "    </tr>\n",
       "    <tr>\n",
       "      <th>50%</th>\n",
       "      <td>5.077606e+09</td>\n",
       "      <td>11.869895</td>\n",
       "      <td>79.700834</td>\n",
       "      <td>111.930846</td>\n",
       "      <td>160.740170</td>\n",
       "      <td>208.388311</td>\n",
       "    </tr>\n",
       "    <tr>\n",
       "      <th>75%</th>\n",
       "      <td>8.366050e+09</td>\n",
       "      <td>36.594818</td>\n",
       "      <td>146.106710</td>\n",
       "      <td>258.282943</td>\n",
       "      <td>340.401154</td>\n",
       "      <td>3383.050269</td>\n",
       "    </tr>\n",
       "    <tr>\n",
       "      <th>max</th>\n",
       "      <td>9.393948e+09</td>\n",
       "      <td>1153.522705</td>\n",
       "      <td>1239.946035</td>\n",
       "      <td>295191.841852</td>\n",
       "      <td>354801.776081</td>\n",
       "      <td>476904.241332</td>\n",
       "    </tr>\n",
       "  </tbody>\n",
       "</table>\n",
       "</div>"
      ],
      "text/plain": [
       "                 NN        offroad            pre            F10  \\\n",
       "count  1.258860e+05  125402.000000  125401.000000  125401.000000   \n",
       "mean   5.726621e+09      30.850911     108.466988    1302.139275   \n",
       "std    2.427068e+09      52.353222      91.342579    8607.901375   \n",
       "min    6.088434e+07       0.000000       0.000000       0.000000   \n",
       "25%    3.774781e+09       4.030059      45.322884      53.724500   \n",
       "50%    5.077606e+09      11.869895      79.700834     111.930846   \n",
       "75%    8.366050e+09      36.594818     146.106710     258.282943   \n",
       "max    9.393948e+09    1153.522705    1239.946035  295191.841852   \n",
       "\n",
       "                 F20            F50  \n",
       "count  125401.000000  125401.000000  \n",
       "mean     2491.133466    4756.493252  \n",
       "std     12680.066151   19174.814081  \n",
       "min         0.000000       0.000000  \n",
       "25%        60.838078      64.444047  \n",
       "50%       160.740170     208.388311  \n",
       "75%       340.401154    3383.050269  \n",
       "max    354801.776081  476904.241332  "
      ]
     },
     "metadata": {},
     "output_type": "display_data"
    }
   ],
   "source": [
    "display(hamlet_all.describe())"
   ]
  },
  {
   "cell_type": "code",
   "execution_count": 36,
   "metadata": {},
   "outputs": [
    {
     "name": "stdout",
     "output_type": "stream",
     "text": [
      "<class 'pandas.core.frame.DataFrame'>\n",
      "Int64Index: 125886 entries, 0 to 125885\n",
      "Data columns (total 9 columns):\n",
      " #   Column     Non-Null Count   Dtype  \n",
      "---  ------     --------------   -----  \n",
      " 0   mgrs_code  125886 non-null  object \n",
      " 1   NN         125886 non-null  int64  \n",
      " 2   offroad    125402 non-null  float64\n",
      " 3   pre        125401 non-null  float64\n",
      " 4   F10        125401 non-null  float64\n",
      " 5   F20        125401 non-null  float64\n",
      " 6   F50        125401 non-null  float64\n",
      " 7   X          125886 non-null  float64\n",
      " 8   Y          125886 non-null  float64\n",
      "dtypes: float64(7), int64(1), object(1)\n",
      "memory usage: 9.6+ MB\n"
     ]
    }
   ],
   "source": [
    "hamlet_all[\"geometry\"] = hamlet_all[\"geometry\"].astype('str')\n",
    "hamlet_all[\"geometry\"]  = hamlet_all[\"geometry\"] .str.strip('POINT ')\n",
    "hamlet_all[\"geometry\"]  = hamlet_all[\"geometry\"] .str.strip('()')\n",
    "XY = hamlet_all[\"geometry\"] .str.split(\" \", expand=True)\n",
    "hamlet_all[\"X\"] = XY[0]\n",
    "hamlet_all[\"Y\"] = XY[1]\n",
    "hamlet_all[\"X\"] = hamlet_all[\"X\"].astype('float')\n",
    "hamlet_all[\"Y\"] = hamlet_all[\"Y\"].astype('float')\n",
    "hamlet_all = hamlet_all.drop(columns=['geometry'])\n",
    "hamlet_all.info()"
   ]
  },
  {
   "cell_type": "code",
   "execution_count": 37,
   "metadata": {},
   "outputs": [],
   "source": [
    "hamlet_all.to_csv(os.path.join(out_pth, 'hamlet_to_HDurban_pre-F10-20-50.csv'))"
   ]
  },
  {
   "cell_type": "code",
   "execution_count": 23,
   "metadata": {},
   "outputs": [],
   "source": [
    "# To prevent memory errors if moving straight on to next set, delete hamlet files from memory\n",
    "del hamlet_all"
   ]
  },
  {
   "cell_type": "markdown",
   "metadata": {},
   "source": [
    "#### Agriculture"
   ]
  },
  {
   "cell_type": "code",
   "execution_count": 44,
   "metadata": {},
   "outputs": [
    {
     "name": "stdout",
     "output_type": "stream",
     "text": [
      "<class 'pandas.core.frame.DataFrame'>\n",
      "RangeIndex: 13941124 entries, 0 to 13941123\n",
      "Data columns (total 10 columns):\n",
      " #   Column               Dtype   \n",
      "---  ------               -----   \n",
      " 0   ID_ag                int64   \n",
      " 1   ID_spam              float64 \n",
      " 2   grid_val             float64 \n",
      " 3   ID_LC                float64 \n",
      " 4   val                  float64 \n",
      " 5   x                    float64 \n",
      " 6   y                    float64 \n",
      " 7   NSnomax              float64 \n",
      " 8   CD_gNodesPreproj_MX  float64 \n",
      " 9   geometry             geometry\n",
      "dtypes: float64(8), geometry(1), int64(1)\n",
      "memory usage: 1.0 GB\n",
      "None\n",
      "<class 'pandas.core.frame.DataFrame'>\n",
      "RangeIndex: 13941124 entries, 0 to 13941123\n",
      "Data columns (total 12 columns):\n",
      " #   Column      Dtype  \n",
      "---  ------      -----  \n",
      " 0   Unnamed: 0  int64  \n",
      " 1   ID_ag       int64  \n",
      " 2   ID_spam     float64\n",
      " 3   grid_val    float64\n",
      " 4   ID_LC       float64\n",
      " 5   val         float64\n",
      " 6   x           float64\n",
      " 7   y           float64\n",
      " 8   NSnomax     float64\n",
      " 9   geometry    object \n",
      " 10  NN          int64  \n",
      " 11  NN_dist     float64\n",
      "dtypes: float64(8), int64(3), object(1)\n",
      "memory usage: 1.2+ GB\n",
      "None\n"
     ]
    }
   ],
   "source": [
    "ag_CD = gpd.read_file(\"R:\\SEN\\GEO\\Team\\Projects\\Sen_TransportOV\\SEN_TransportOV.gdb\", layer=\"agriculture_allorigins\") # Contains cost-distance travel from origin to road node.\n",
    "ag_CD = pd.DataFrame(ag_CD) \n",
    "ag_snap = os.path.join(out_pth, \"ag_snap.csv\") # Georeferenced to origin. Contains hamlet ID and road node ID.\n",
    "ag_snap = pd.read_csv(ag_snap)\n",
    "\n",
    "print(ag_CD.info())\n",
    "print(ag_snap.info())"
   ]
  },
  {
   "cell_type": "code",
   "execution_count": 45,
   "metadata": {},
   "outputs": [
    {
     "name": "stdout",
     "output_type": "stream",
     "text": [
      "<class 'pandas.core.frame.DataFrame'>\n",
      "RangeIndex: 967552 entries, 0 to 967551\n",
      "Data columns (total 5 columns):\n",
      " #   Column      Non-Null Count   Dtype  \n",
      "---  ------      --------------   -----  \n",
      " 0   Unnamed: 0  967552 non-null  int64  \n",
      " 1   NN          967552 non-null  int64  \n",
      " 2   ag_HD1      967550 non-null  float64\n",
      " 3   ag_HD2      967552 non-null  float64\n",
      " 4   ag_HD3      967552 non-null  float64\n",
      "dtypes: float64(3), int64(2)\n",
      "memory usage: 36.9 MB\n",
      "None\n",
      "<class 'pandas.core.frame.DataFrame'>\n",
      "RangeIndex: 967552 entries, 0 to 967551\n",
      "Data columns (total 5 columns):\n",
      " #   Column      Non-Null Count   Dtype  \n",
      "---  ------      --------------   -----  \n",
      " 0   Unnamed: 0  967552 non-null  int64  \n",
      " 1   NN          967552 non-null  int64  \n",
      " 2   ag_HD1      967550 non-null  float64\n",
      " 3   ag_HD2      967552 non-null  float64\n",
      " 4   ag_HD3      967552 non-null  float64\n",
      "dtypes: float64(3), int64(2)\n",
      "memory usage: 36.9 MB\n",
      "None\n",
      "<class 'pandas.core.frame.DataFrame'>\n",
      "RangeIndex: 967552 entries, 0 to 967551\n",
      "Data columns (total 5 columns):\n",
      " #   Column      Non-Null Count   Dtype  \n",
      "---  ------      --------------   -----  \n",
      " 0   Unnamed: 0  967552 non-null  int64  \n",
      " 1   NN          967552 non-null  int64  \n",
      " 2   ag_HD1      967550 non-null  float64\n",
      " 3   ag_HD2      967552 non-null  float64\n",
      " 4   ag_HD3      967552 non-null  float64\n",
      "dtypes: float64(3), int64(2)\n",
      "memory usage: 36.9 MB\n",
      "None\n",
      "<class 'pandas.core.frame.DataFrame'>\n",
      "RangeIndex: 967552 entries, 0 to 967551\n",
      "Data columns (total 5 columns):\n",
      " #   Column      Non-Null Count   Dtype  \n",
      "---  ------      --------------   -----  \n",
      " 0   Unnamed: 0  967552 non-null  int64  \n",
      " 1   NN          967552 non-null  int64  \n",
      " 2   ag_HD1      967550 non-null  float64\n",
      " 3   ag_HD2      967552 non-null  float64\n",
      " 4   ag_HD3      967552 non-null  float64\n",
      "dtypes: float64(3), int64(2)\n",
      "memory usage: 36.9 MB\n",
      "None\n"
     ]
    }
   ],
   "source": [
    "# If reloading:\n",
    "agbase = os.path.join(out_pth, \"ag_to_HDurban_drive_post-project.csv\")\n",
    "agbase = pd.read_csv(agbase)\n",
    "agF10 = os.path.join(out_pth, \"ag_to_HDurban_drive_post-project_flood10.csv\")\n",
    "agF10 = pd.read_csv(agF10)\n",
    "agF20 = os.path.join(out_pth, \"ag_to_HDurban_drive_post-project_flood20.csv\")\n",
    "agF20 = pd.read_csv(agF20)\n",
    "agF50 = os.path.join(out_pth, \"ag_to_HDurban_drive_post-project_flood50.csv\")\n",
    "agF50 = pd.read_csv(agF50)\n",
    "\n",
    "print(agbase.info(), end=\"\\n\")\n",
    "print(agF10.info(), end=\"\\n\")\n",
    "print(agF20.info(), end=\"\\n\")\n",
    "print(agF50.info())"
   ]
  },
  {
   "cell_type": "code",
   "execution_count": 46,
   "metadata": {},
   "outputs": [
    {
     "name": "stdout",
     "output_type": "stream",
     "text": [
      "967552\n",
      "967552\n",
      "967552\n",
      "967552\n",
      "967552\n",
      "13941124\n",
      "13941124\n"
     ]
    }
   ],
   "source": [
    "# Make sure the ID is unique and fully matched\n",
    "list1 = list(agbase['NN'].unique())\n",
    "list2 = list(agF10['NN'].unique())\n",
    "list3 = list(agF20['NN'].unique())\n",
    "list4 = list(agF50['NN'].unique())\n",
    "list5 = list(ag_snap['NN'].unique())\n",
    "print(len(list1))\n",
    "print(len(list2))\n",
    "print(len(list3))\n",
    "print(len(list4))\n",
    "print(len(list5))\n",
    "\n",
    "list6 = list(ag_snap['ID_ag'].unique())\n",
    "list7 = list(ag_CD['ID_ag'].unique())\n",
    "print(len(list6))\n",
    "print(len(list7))"
   ]
  },
  {
   "cell_type": "code",
   "execution_count": 47,
   "metadata": {},
   "outputs": [],
   "source": [
    "agF10.rename(columns={'ag_HD1': 'HD1F10'}, inplace=True)\n",
    "agF20.rename(columns={'ag_HD1': 'HD1F20'}, inplace=True)\n",
    "agF50.rename(columns={'ag_HD1': 'HD1F50'}, inplace=True)\n",
    "agbase = agbase[['NN', 'ag_HD1']]\n",
    "agF10 = agF10[['NN', 'HD1F10']]\n",
    "agF20 = agF20[['NN', 'HD1F20']]\n",
    "agF50 = agF50[['NN', 'HD1F50']]\n",
    "ag_snap = ag_snap[['ID_ag', 'geometry', 'NN']]\n",
    "ag_CD = ag_CD[['ID_ag', 'val', 'CD_gNodesPreproj_MX']]"
   ]
  },
  {
   "cell_type": "code",
   "execution_count": 48,
   "metadata": {},
   "outputs": [],
   "source": [
    "ag_all = pd.merge(ag_snap, ag_CD, on='ID_ag',how='left')\n",
    "del ag_snap, ag_CD # Avoid memory issues."
   ]
  },
  {
   "cell_type": "code",
   "execution_count": 49,
   "metadata": {},
   "outputs": [],
   "source": [
    "ag_all = pd.merge(ag_all, agbase, on='NN',how='left')\n",
    "del agbase"
   ]
  },
  {
   "cell_type": "code",
   "execution_count": 50,
   "metadata": {},
   "outputs": [],
   "source": [
    "ag_all = pd.merge(ag_all, agF10, on='NN',how='left')\n",
    "del agF10"
   ]
  },
  {
   "cell_type": "code",
   "execution_count": 51,
   "metadata": {},
   "outputs": [],
   "source": [
    "ag_all = pd.merge(ag_all, agF20, on='NN',how='left')\n",
    "del agF20"
   ]
  },
  {
   "cell_type": "code",
   "execution_count": 52,
   "metadata": {},
   "outputs": [],
   "source": [
    "ag_all = pd.merge(ag_all, agF50, on='NN',how='left')\n",
    "del agF50"
   ]
  },
  {
   "cell_type": "code",
   "execution_count": 53,
   "metadata": {},
   "outputs": [
    {
     "data": {
      "text/html": [
       "<div>\n",
       "<style scoped>\n",
       "    .dataframe tbody tr th:only-of-type {\n",
       "        vertical-align: middle;\n",
       "    }\n",
       "\n",
       "    .dataframe tbody tr th {\n",
       "        vertical-align: top;\n",
       "    }\n",
       "\n",
       "    .dataframe thead th {\n",
       "        text-align: right;\n",
       "    }\n",
       "</style>\n",
       "<table border=\"1\" class=\"dataframe\">\n",
       "  <thead>\n",
       "    <tr style=\"text-align: right;\">\n",
       "      <th></th>\n",
       "      <th>ID_ag</th>\n",
       "      <th>geometry</th>\n",
       "      <th>NN</th>\n",
       "      <th>val</th>\n",
       "      <th>CD_gNodesPreproj_MX</th>\n",
       "      <th>ag_HD1</th>\n",
       "      <th>HD1F10</th>\n",
       "      <th>HD1F20</th>\n",
       "      <th>HD1F50</th>\n",
       "      <th>post</th>\n",
       "      <th>F10</th>\n",
       "      <th>F20</th>\n",
       "      <th>F50</th>\n",
       "    </tr>\n",
       "  </thead>\n",
       "  <tbody>\n",
       "    <tr>\n",
       "      <th>0</th>\n",
       "      <td>13941103</td>\n",
       "      <td>POINT (-16.458987999999977 12.208646000000044)</td>\n",
       "      <td>3507831609</td>\n",
       "      <td>2008851.0</td>\n",
       "      <td>NaN</td>\n",
       "      <td>82.054823</td>\n",
       "      <td>82.054823</td>\n",
       "      <td>82.054823</td>\n",
       "      <td>82.363044</td>\n",
       "      <td>NaN</td>\n",
       "      <td>NaN</td>\n",
       "      <td>NaN</td>\n",
       "      <td>NaN</td>\n",
       "    </tr>\n",
       "    <tr>\n",
       "      <th>1</th>\n",
       "      <td>13941122</td>\n",
       "      <td>POINT (-16.375654999999938 12.208646000000044)</td>\n",
       "      <td>3507831510</td>\n",
       "      <td>94605.0</td>\n",
       "      <td>NaN</td>\n",
       "      <td>88.413319</td>\n",
       "      <td>88.413319</td>\n",
       "      <td>88.413319</td>\n",
       "      <td>88.721541</td>\n",
       "      <td>NaN</td>\n",
       "      <td>NaN</td>\n",
       "      <td>NaN</td>\n",
       "      <td>NaN</td>\n",
       "    </tr>\n",
       "    <tr>\n",
       "      <th>2</th>\n",
       "      <td>13941017</td>\n",
       "      <td>POINT (-16.208988999999974 12.208646000000044)</td>\n",
       "      <td>6188134127</td>\n",
       "      <td>708413.0</td>\n",
       "      <td>NaN</td>\n",
       "      <td>23.536822</td>\n",
       "      <td>23.536822</td>\n",
       "      <td>23.536822</td>\n",
       "      <td>23.536822</td>\n",
       "      <td>NaN</td>\n",
       "      <td>NaN</td>\n",
       "      <td>NaN</td>\n",
       "      <td>NaN</td>\n",
       "    </tr>\n",
       "    <tr>\n",
       "      <th>3</th>\n",
       "      <td>13941036</td>\n",
       "      <td>POINT (-16.20849199999998 12.152815000000032)</td>\n",
       "      <td>3507831510</td>\n",
       "      <td>315719.0</td>\n",
       "      <td>NaN</td>\n",
       "      <td>88.413319</td>\n",
       "      <td>88.413319</td>\n",
       "      <td>88.413319</td>\n",
       "      <td>88.721541</td>\n",
       "      <td>NaN</td>\n",
       "      <td>NaN</td>\n",
       "      <td>NaN</td>\n",
       "      <td>NaN</td>\n",
       "    </tr>\n",
       "    <tr>\n",
       "      <th>4</th>\n",
       "      <td>13941044</td>\n",
       "      <td>POINT (-16.294212999999957 12.149487000000022)</td>\n",
       "      <td>3507831510</td>\n",
       "      <td>375288.0</td>\n",
       "      <td>NaN</td>\n",
       "      <td>88.413319</td>\n",
       "      <td>88.413319</td>\n",
       "      <td>88.413319</td>\n",
       "      <td>88.721541</td>\n",
       "      <td>NaN</td>\n",
       "      <td>NaN</td>\n",
       "      <td>NaN</td>\n",
       "      <td>NaN</td>\n",
       "    </tr>\n",
       "  </tbody>\n",
       "</table>\n",
       "</div>"
      ],
      "text/plain": [
       "      ID_ag                                        geometry          NN  \\\n",
       "0  13941103  POINT (-16.458987999999977 12.208646000000044)  3507831609   \n",
       "1  13941122  POINT (-16.375654999999938 12.208646000000044)  3507831510   \n",
       "2  13941017  POINT (-16.208988999999974 12.208646000000044)  6188134127   \n",
       "3  13941036   POINT (-16.20849199999998 12.152815000000032)  3507831510   \n",
       "4  13941044  POINT (-16.294212999999957 12.149487000000022)  3507831510   \n",
       "\n",
       "         val  CD_gNodesPreproj_MX     ag_HD1     HD1F10     HD1F20     HD1F50  \\\n",
       "0  2008851.0                  NaN  82.054823  82.054823  82.054823  82.363044   \n",
       "1    94605.0                  NaN  88.413319  88.413319  88.413319  88.721541   \n",
       "2   708413.0                  NaN  23.536822  23.536822  23.536822  23.536822   \n",
       "3   315719.0                  NaN  88.413319  88.413319  88.413319  88.721541   \n",
       "4   375288.0                  NaN  88.413319  88.413319  88.413319  88.721541   \n",
       "\n",
       "   post  F10  F20  F50  \n",
       "0   NaN  NaN  NaN  NaN  \n",
       "1   NaN  NaN  NaN  NaN  \n",
       "2   NaN  NaN  NaN  NaN  \n",
       "3   NaN  NaN  NaN  NaN  \n",
       "4   NaN  NaN  NaN  NaN  "
      ]
     },
     "execution_count": 53,
     "metadata": {},
     "output_type": "execute_result"
    }
   ],
   "source": [
    "ag_all['post'] = 0\n",
    "ag_all['post'] = ag_all['ag_HD1'] + ag_all['CD_gNodesPreproj_MX']\n",
    "ag_all['F10'] = 0\n",
    "ag_all['F10'] = ag_all['HD1F10'] + ag_all['CD_gNodesPreproj_MX']\n",
    "ag_all['F20'] = 0\n",
    "ag_all['F20'] = ag_all['HD1F20'] + ag_all['CD_gNodesPreproj_MX']\n",
    "ag_all['F50'] = 0\n",
    "ag_all['F50'] = ag_all['HD1F50'] + ag_all['CD_gNodesPreproj_MX']\n",
    "ag_all.head()"
   ]
  },
  {
   "cell_type": "code",
   "execution_count": 54,
   "metadata": {},
   "outputs": [
    {
     "name": "stdout",
     "output_type": "stream",
     "text": [
      "<class 'pandas.core.frame.DataFrame'>\n",
      "Int64Index: 13941124 entries, 0 to 13941123\n",
      "Data columns (total 9 columns):\n",
      " #   Column    Dtype  \n",
      "---  ------    -----  \n",
      " 0   ID_ag     int64  \n",
      " 1   geometry  object \n",
      " 2   NN        int64  \n",
      " 3   val       float64\n",
      " 4   offroad   float64\n",
      " 5   post      float64\n",
      " 6   F10       float64\n",
      " 7   F20       float64\n",
      " 8   F50       float64\n",
      "dtypes: float64(6), int64(2), object(1)\n",
      "memory usage: 1.0+ GB\n"
     ]
    }
   ],
   "source": [
    "# Remove legacy variables.\n",
    "ag_all = ag_all.drop(columns=['ag_HD1', 'HD1F10', 'HD1F20', 'HD1F50'])\n",
    "ag_all.rename(columns={'CD_gNodesPreproj_MX': 'offroad'}, inplace=True)\n",
    "ag_all.info()"
   ]
  },
  {
   "cell_type": "code",
   "execution_count": 55,
   "metadata": {},
   "outputs": [
    {
     "data": {
      "text/html": [
       "<div>\n",
       "<style scoped>\n",
       "    .dataframe tbody tr th:only-of-type {\n",
       "        vertical-align: middle;\n",
       "    }\n",
       "\n",
       "    .dataframe tbody tr th {\n",
       "        vertical-align: top;\n",
       "    }\n",
       "\n",
       "    .dataframe thead th {\n",
       "        text-align: right;\n",
       "    }\n",
       "</style>\n",
       "<table border=\"1\" class=\"dataframe\">\n",
       "  <thead>\n",
       "    <tr style=\"text-align: right;\">\n",
       "      <th></th>\n",
       "      <th>ID_ag</th>\n",
       "      <th>NN</th>\n",
       "      <th>val</th>\n",
       "      <th>offroad</th>\n",
       "      <th>post</th>\n",
       "      <th>F10</th>\n",
       "      <th>F20</th>\n",
       "      <th>F50</th>\n",
       "    </tr>\n",
       "  </thead>\n",
       "  <tbody>\n",
       "    <tr>\n",
       "      <th>count</th>\n",
       "      <td>1.394112e+07</td>\n",
       "      <td>1.394112e+07</td>\n",
       "      <td>1.394112e+07</td>\n",
       "      <td>1.316869e+07</td>\n",
       "      <td>1.316869e+07</td>\n",
       "      <td>1.316869e+07</td>\n",
       "      <td>1.316869e+07</td>\n",
       "      <td>1.316869e+07</td>\n",
       "    </tr>\n",
       "    <tr>\n",
       "      <th>mean</th>\n",
       "      <td>6.970562e+06</td>\n",
       "      <td>5.591440e+09</td>\n",
       "      <td>1.219702e+02</td>\n",
       "      <td>2.335968e+01</td>\n",
       "      <td>7.603394e+01</td>\n",
       "      <td>1.094372e+03</td>\n",
       "      <td>1.847466e+03</td>\n",
       "      <td>3.805840e+03</td>\n",
       "    </tr>\n",
       "    <tr>\n",
       "      <th>std</th>\n",
       "      <td>4.024456e+06</td>\n",
       "      <td>2.392587e+09</td>\n",
       "      <td>3.760062e+03</td>\n",
       "      <td>3.347875e+01</td>\n",
       "      <td>4.788878e+01</td>\n",
       "      <td>8.386105e+03</td>\n",
       "      <td>1.180401e+04</td>\n",
       "      <td>2.236732e+04</td>\n",
       "    </tr>\n",
       "    <tr>\n",
       "      <th>min</th>\n",
       "      <td>0.000000e+00</td>\n",
       "      <td>2.213272e+07</td>\n",
       "      <td>1.563126e-01</td>\n",
       "      <td>0.000000e+00</td>\n",
       "      <td>0.000000e+00</td>\n",
       "      <td>0.000000e+00</td>\n",
       "      <td>0.000000e+00</td>\n",
       "      <td>0.000000e+00</td>\n",
       "    </tr>\n",
       "    <tr>\n",
       "      <th>25%</th>\n",
       "      <td>3.485281e+06</td>\n",
       "      <td>3.743274e+09</td>\n",
       "      <td>4.293236e+01</td>\n",
       "      <td>3.998711e+00</td>\n",
       "      <td>4.359728e+01</td>\n",
       "      <td>5.321674e+01</td>\n",
       "      <td>5.971764e+01</td>\n",
       "      <td>6.417238e+01</td>\n",
       "    </tr>\n",
       "    <tr>\n",
       "      <th>50%</th>\n",
       "      <td>6.970562e+06</td>\n",
       "      <td>4.623208e+09</td>\n",
       "      <td>7.008440e+01</td>\n",
       "      <td>1.093603e+01</td>\n",
       "      <td>6.783970e+01</td>\n",
       "      <td>8.915524e+01</td>\n",
       "      <td>1.086822e+02</td>\n",
       "      <td>1.514637e+02</td>\n",
       "    </tr>\n",
       "    <tr>\n",
       "      <th>75%</th>\n",
       "      <td>1.045584e+07</td>\n",
       "      <td>8.071363e+09</td>\n",
       "      <td>1.013998e+02</td>\n",
       "      <td>2.950466e+01</td>\n",
       "      <td>9.742060e+01</td>\n",
       "      <td>1.403246e+02</td>\n",
       "      <td>1.973325e+02</td>\n",
       "      <td>5.097665e+02</td>\n",
       "    </tr>\n",
       "    <tr>\n",
       "      <th>max</th>\n",
       "      <td>1.394112e+07</td>\n",
       "      <td>9.395831e+09</td>\n",
       "      <td>6.939670e+06</td>\n",
       "      <td>1.705327e+03</td>\n",
       "      <td>1.793787e+03</td>\n",
       "      <td>3.687666e+05</td>\n",
       "      <td>4.346180e+05</td>\n",
       "      <td>5.309666e+05</td>\n",
       "    </tr>\n",
       "  </tbody>\n",
       "</table>\n",
       "</div>"
      ],
      "text/plain": [
       "              ID_ag            NN           val       offroad          post  \\\n",
       "count  1.394112e+07  1.394112e+07  1.394112e+07  1.316869e+07  1.316869e+07   \n",
       "mean   6.970562e+06  5.591440e+09  1.219702e+02  2.335968e+01  7.603394e+01   \n",
       "std    4.024456e+06  2.392587e+09  3.760062e+03  3.347875e+01  4.788878e+01   \n",
       "min    0.000000e+00  2.213272e+07  1.563126e-01  0.000000e+00  0.000000e+00   \n",
       "25%    3.485281e+06  3.743274e+09  4.293236e+01  3.998711e+00  4.359728e+01   \n",
       "50%    6.970562e+06  4.623208e+09  7.008440e+01  1.093603e+01  6.783970e+01   \n",
       "75%    1.045584e+07  8.071363e+09  1.013998e+02  2.950466e+01  9.742060e+01   \n",
       "max    1.394112e+07  9.395831e+09  6.939670e+06  1.705327e+03  1.793787e+03   \n",
       "\n",
       "                F10           F20           F50  \n",
       "count  1.316869e+07  1.316869e+07  1.316869e+07  \n",
       "mean   1.094372e+03  1.847466e+03  3.805840e+03  \n",
       "std    8.386105e+03  1.180401e+04  2.236732e+04  \n",
       "min    0.000000e+00  0.000000e+00  0.000000e+00  \n",
       "25%    5.321674e+01  5.971764e+01  6.417238e+01  \n",
       "50%    8.915524e+01  1.086822e+02  1.514637e+02  \n",
       "75%    1.403246e+02  1.973325e+02  5.097665e+02  \n",
       "max    3.687666e+05  4.346180e+05  5.309666e+05  "
      ]
     },
     "metadata": {},
     "output_type": "display_data"
    }
   ],
   "source": [
    "display(ag_all.describe())"
   ]
  },
  {
   "cell_type": "code",
   "execution_count": 56,
   "metadata": {},
   "outputs": [
    {
     "name": "stdout",
     "output_type": "stream",
     "text": [
      "<class 'pandas.core.frame.DataFrame'>\n",
      "Int64Index: 13941124 entries, 0 to 13941123\n",
      "Data columns (total 10 columns):\n",
      " #   Column   Dtype  \n",
      "---  ------   -----  \n",
      " 0   ID_ag    int64  \n",
      " 1   NN       int64  \n",
      " 2   val      float64\n",
      " 3   offroad  float64\n",
      " 4   post     float64\n",
      " 5   F10      float64\n",
      " 6   F20      float64\n",
      " 7   F50      float64\n",
      " 8   X        float64\n",
      " 9   Y        float64\n",
      "dtypes: float64(8), int64(2)\n",
      "memory usage: 1.1 GB\n"
     ]
    }
   ],
   "source": [
    "ag_all[\"geometry\"] = ag_all[\"geometry\"].astype('str')\n",
    "ag_all[\"geometry\"]  = ag_all[\"geometry\"] .str.strip('POINT ')\n",
    "ag_all[\"geometry\"]  = ag_all[\"geometry\"] .str.strip('()')\n",
    "XY = ag_all[\"geometry\"] .str.split(\" \", expand=True)\n",
    "ag_all[\"X\"] = XY[0]\n",
    "ag_all[\"Y\"] = XY[1]\n",
    "ag_all[\"X\"] = ag_all[\"X\"].astype('float')\n",
    "ag_all[\"Y\"] = ag_all[\"Y\"].astype('float')\n",
    "ag_all = ag_all.drop(columns=['geometry'])\n",
    "ag_all.info()"
   ]
  },
  {
   "cell_type": "code",
   "execution_count": 57,
   "metadata": {},
   "outputs": [],
   "source": [
    "ag_all.to_csv(os.path.join(out_pth, 'ag_to_HDurban_post-F10-20-50.csv'))"
   ]
  },
  {
   "cell_type": "code",
   "execution_count": 58,
   "metadata": {},
   "outputs": [],
   "source": [
    "# To prevent memory errors if moving straight on to next set, delete hamlet files from memory\n",
    "del ag_all"
   ]
  },
  {
   "cell_type": "code",
   "execution_count": null,
   "metadata": {},
   "outputs": [],
   "source": []
  }
 ],
 "metadata": {
  "kernelspec": {
   "display_name": "Python 3 (ipykernel)",
   "language": "python",
   "name": "python3"
  },
  "language_info": {
   "codemirror_mode": {
    "name": "ipython",
    "version": 3
   },
   "file_extension": ".py",
   "mimetype": "text/x-python",
   "name": "python",
   "nbconvert_exporter": "python",
   "pygments_lexer": "ipython3",
   "version": "3.8.0"
  }
 },
 "nbformat": 4,
 "nbformat_minor": 4
}
